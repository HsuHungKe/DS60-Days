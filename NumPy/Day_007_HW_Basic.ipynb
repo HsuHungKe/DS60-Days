{
 "cells": [
  {
   "cell_type": "markdown",
   "metadata": {
    "colab_type": "text",
    "id": "P6xk2_jLsvFF"
   },
   "source": [
    "# [作業目標]\n",
    "\n",
    "1. 請比較對一個 100 x 100 * 100 的陣列，使用不同方法對每一個元素 +1 的時間比較。\n",
    "\n",
    "2. 如何從一個陣列中，找出出現頻率最高的數值與位置？\n",
    "\n",
    "3. 如何利用 list(...) 實現 a.tolist() 的效果？試著用程式實作。\n"
   ]
  },
  {
   "cell_type": "markdown",
   "metadata": {
    "colab_type": "text",
    "id": "uXGll28asvFS"
   },
   "source": [
    "# 作業 "
   ]
  },
  {
   "cell_type": "markdown",
   "metadata": {},
   "source": [
    "### 1. 請比較對一個 1000 x 100 x 100 的陣列，使用不同方法對每一個元素 +1 的時間比較。\n",
    "\n",
    "\n"
   ]
  },
  {
   "cell_type": "code",
   "execution_count": 1,
   "metadata": {},
   "outputs": [],
   "source": [
    "# 記得先 Import 正確的套件\n",
    "\n",
    "import numpy as np"
   ]
  },
  {
   "cell_type": "code",
   "execution_count": 2,
   "metadata": {
    "colab": {},
    "colab_type": "code",
    "id": "5QrYoyNWsvFS"
   },
   "outputs": [],
   "source": [
    "Z = np.random.randint(0, 10, 1000000).reshape(100, 100, 100)"
   ]
  },
  {
   "cell_type": "code",
   "execution_count": 8,
   "metadata": {},
   "outputs": [
    {
     "data": {
      "text/plain": [
       "array([6, 3])"
      ]
     },
     "execution_count": 8,
     "metadata": {},
     "output_type": "execute_result"
    }
   ],
   "source": [
    "Z[1,1,1:3]"
   ]
  },
  {
   "cell_type": "code",
   "execution_count": 18,
   "metadata": {},
   "outputs": [
    {
     "name": "stdout",
     "output_type": "stream",
     "text": [
      "37.1 ns ± 13.9 ns per loop (mean ± std. dev. of 7 runs, 10 loops each)\n"
     ]
    }
   ],
   "source": [
    "%timeit -n 10 a = 2\n",
    "\n",
    "for i in Z:\n",
    "    for j in i:\n",
    "        for l in j:\n",
    "            l = l+1\n"
   ]
  },
  {
   "cell_type": "code",
   "execution_count": 17,
   "metadata": {},
   "outputs": [
    {
     "name": "stdout",
     "output_type": "stream",
     "text": [
      "30 ns ± 20.7 ns per loop (mean ± std. dev. of 7 runs, 10 loops each)\n"
     ]
    }
   ],
   "source": [
    "%timeit -n 10 a = 2\n",
    "\n",
    "for i in Z.flat:\n",
    "    i = i+1"
   ]
  },
  {
   "cell_type": "code",
   "execution_count": 19,
   "metadata": {},
   "outputs": [
    {
     "name": "stdout",
     "output_type": "stream",
     "text": [
      "41.4 ns ± 16.4 ns per loop (mean ± std. dev. of 7 runs, 10 loops each)\n"
     ]
    }
   ],
   "source": [
    "%timeit -n 10 a = 2\n",
    "\n",
    "for i in np.nditer(Z):\n",
    "    i = i+1"
   ]
  },
  {
   "cell_type": "markdown",
   "metadata": {},
   "source": [
    "### 2. 如何從一個陣列中，找出出現頻率最高的數值與位置？\n"
   ]
  },
  {
   "cell_type": "code",
   "execution_count": 20,
   "metadata": {
    "colab": {},
    "colab_type": "code",
    "id": "e1gVI0tvsvFY"
   },
   "outputs": [
    {
     "name": "stdout",
     "output_type": "stream",
     "text": [
      "[5 6 0 5 5 4 9 6 0 8 7 3 9 7 0 5 1 7 5 4 5 9 9 1 1 6 8 6 2 7 4 6 7 2 5 6 7\n",
      " 4 9 6 8 3 2 9 9 7 4 0 4 8]\n"
     ]
    }
   ],
   "source": [
    "\n",
    "Z = np.random.randint(0,10,50)\n",
    "print(Z)\n"
   ]
  },
  {
   "cell_type": "code",
   "execution_count": 21,
   "metadata": {},
   "outputs": [
    {
     "name": "stdout",
     "output_type": "stream",
     "text": [
      "9\n"
     ]
    }
   ],
   "source": [
    "print(np.max(Z))"
   ]
  },
  {
   "cell_type": "code",
   "execution_count": 30,
   "metadata": {},
   "outputs": [
    {
     "name": "stdout",
     "output_type": "stream",
     "text": [
      "(array([ 6, 12, 21, 22, 38, 43, 44], dtype=int64),)\n"
     ]
    }
   ],
   "source": [
    "print(np.where(Z==np.max(Z)))"
   ]
  },
  {
   "cell_type": "markdown",
   "metadata": {},
   "source": [
    "### 3. 如何利用 list(...) 實現 a.tolist() 的效果？試著用程式實作。\n"
   ]
  },
  {
   "cell_type": "code",
   "execution_count": 31,
   "metadata": {},
   "outputs": [
    {
     "name": "stdout",
     "output_type": "stream",
     "text": [
      "[6, 9, 7, 1, 9, 1]\n",
      "[6, 9, 7, 1, 9, 1]\n",
      "[[6, 7, 2, 6], [8, 6, 6, 6], [6, 1, 1, 5]]\n",
      "[array([6, 7, 2, 6]), array([8, 6, 6, 6]), array([6, 1, 1, 5])]\n",
      "[[[1, 9], [8, 6], [1, 6]], [[2, 6], [9, 3], [6, 8]]]\n",
      "[array([[1, 9],\n",
      "       [8, 6],\n",
      "       [1, 6]]), array([[2, 6],\n",
      "       [9, 3],\n",
      "       [6, 8]])]\n"
     ]
    }
   ],
   "source": [
    "a = np.random.randint(10, size=6) \n",
    "\n",
    "print(a.tolist())\n",
    "print(list(a))\n",
    "\n",
    "\n",
    "b = np.random.randint(10, size=(3,4)) \n",
    "\n",
    "print(b.tolist())\n",
    "print(list(b))\n",
    "\n",
    "\n",
    "c = np.random.randint(10, size=(2,3,2)) \n",
    "\n",
    "print(c.tolist())\n",
    "print(list(c))\n"
   ]
  },
  {
   "cell_type": "code",
   "execution_count": 32,
   "metadata": {},
   "outputs": [
    {
     "name": "stdout",
     "output_type": "stream",
     "text": [
      "[6, 9, 7, 1, 9, 1]\n",
      "[[6, 7, 2, 6], [8, 6, 6, 6], [6, 1, 1, 5]]\n",
      "[[[1, 9], [8, 6], [1, 6]], [[2, 6], [9, 3], [6, 8]]]\n"
     ]
    }
   ],
   "source": [
    "def tolist(iterable):\n",
    "    if type(iterable) != np.ndarray:\n",
    "        return iterable\n",
    "    else:\n",
    "        return [tolist(obj) for obj in iterable]\n",
    "    \n",
    "print(tolist(a))\n",
    "print(tolist(b))\n",
    "print(tolist(c))"
   ]
  }
 ],
 "metadata": {
  "colab": {
   "name": "Day_023_HW.ipynb",
   "provenance": []
  },
  "kernelspec": {
   "display_name": "Python 3",
   "language": "python",
   "name": "python3"
  },
  "language_info": {
   "codemirror_mode": {
    "name": "ipython",
    "version": 3
   },
   "file_extension": ".py",
   "mimetype": "text/x-python",
   "name": "python",
   "nbconvert_exporter": "python",
   "pygments_lexer": "ipython3",
   "version": "3.8.5"
  }
 },
 "nbformat": 4,
 "nbformat_minor": 1
}

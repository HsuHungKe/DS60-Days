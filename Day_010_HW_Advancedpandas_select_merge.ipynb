{
 "cells": [
  {
   "cell_type": "markdown",
   "metadata": {
    "id": "wVq5E9P9RNOm"
   },
   "source": [
    "作業目標:<br>\n",
    "1. 熟悉索引操作\n",
    "2. 分辨合併資料方法使用時機"
   ]
  },
  {
   "cell_type": "markdown",
   "metadata": {
    "id": "_dJGNbEQR9fw"
   },
   "source": [
    "作業重點:<br>\n",
    "1. 操作索引注意有分loc、iloc\n",
    "2. 合併資料方法concat、merge、join其中有參數可以調整inner或outer"
   ]
  },
  {
   "cell_type": "markdown",
   "metadata": {
    "id": "xm-gS3tlRQFU"
   },
   "source": [
    "題目:<br>\n",
    "讀取STOCK_DAY_0050_202009.csv串聯STOCK_DAY_0050_202010.csv，並且找出open小於close的資料"
   ]
  },
  {
   "cell_type": "code",
   "execution_count": 3,
   "metadata": {
    "id": "c28Som-RRO7s"
   },
   "outputs": [],
   "source": [
    "import pandas as pd\n",
    "import numpy as np"
   ]
  },
  {
   "cell_type": "code",
   "execution_count": 4,
   "metadata": {
    "id": "Ie41WfAQwcCS"
   },
   "outputs": [],
   "source": [
    "#讀取STOCK_DAY_0050_202009.csv、STOCK_DAY_0050_202010.csv\n",
    "df09 = pd.read_csv('./Pandas_select_merge/STOCK_DAY_0050_202009.csv')\n",
    "df10 = pd.read_csv('./Pandas_select_merge/STOCK_DAY_0050_202010.csv"
   ]
  },
  {
   "cell_type": "code",
   "execution_count": 15,
   "metadata": {},
   "outputs": [
    {
     "name": "stdout",
     "output_type": "stream",
     "text": [
      "        date    open    high     low   close\n",
      "0  109/09/01  102.45  103.35  101.85  103.35\n",
      "1  109/09/02  103.65  104.05  102.30  103.00\n",
      "2  109/09/03  103.70  104.30  103.20  103.30\n",
      "3  109/09/04  102.00  102.70  101.90  102.55\n",
      "4  109/09/07  102.55  103.05  101.90  102.40\n",
      "----------\n",
      "             open        high         low       close\n",
      "count   22.000000   22.000000   22.000000   22.000000\n",
      "mean   103.315909  103.845455  102.713636  103.297727\n",
      "std      1.523419    1.461401    1.549284    1.449259\n",
      "min    100.750000  101.450000  100.050000  100.450000\n",
      "25%    102.475000  103.062500  101.900000  102.550000\n",
      "50%    103.000000  103.475000  102.525000  103.050000\n",
      "75%    104.150000  104.487500  103.237500  104.175000\n",
      "max    106.550000  107.000000  106.350000  106.550000\n",
      "----------\n",
      "<class 'pandas.core.frame.DataFrame'>\n",
      "RangeIndex: 22 entries, 0 to 21\n",
      "Data columns (total 5 columns):\n",
      " #   Column  Non-Null Count  Dtype  \n",
      "---  ------  --------------  -----  \n",
      " 0   date    22 non-null     object \n",
      " 1   open    22 non-null     float64\n",
      " 2   high    22 non-null     float64\n",
      " 3   low     22 non-null     float64\n",
      " 4   close   22 non-null     float64\n",
      "dtypes: float64(4), object(1)\n",
      "memory usage: 1008.0+ bytes\n",
      "None\n"
     ]
    }
   ],
   "source": [
    "#check the characteristics of data from 202009\n",
    "print(df09.head())\n",
    "print('----------')\n",
    "print(df09.describe())\n",
    "print('----------')\n",
    "print(df09.info())"
   ]
  },
  {
   "cell_type": "code",
   "execution_count": 16,
   "metadata": {},
   "outputs": [
    {
     "name": "stdout",
     "output_type": "stream",
     "text": [
      "        date    open    high     low   close\n",
      "0  109/10/05  103.45  104.05  103.00  103.05\n",
      "1  109/10/06  104.00  104.35  103.85  104.25\n",
      "2  109/10/07  104.00  105.00  103.50  104.80\n",
      "3  109/10/08  105.45  106.35  105.30  106.20\n",
      "4  109/10/12  106.70  107.70  106.70  107.05\n",
      "----------\n",
      "             open        high         low       close\n",
      "count   19.000000   19.000000   19.000000   19.000000\n",
      "mean   105.544737  105.944737  105.015789  105.489474\n",
      "std      1.191858    1.205531    1.193041    1.225037\n",
      "min    103.450000  103.600000  102.700000  103.000000\n",
      "25%    104.725000  105.250000  104.325000  104.900000\n",
      "50%    105.700000  106.350000  105.300000  105.950000\n",
      "75%    106.450000  106.600000  105.725000  106.150000\n",
      "max    107.350000  107.700000  106.700000  107.100000\n",
      "----------\n",
      "<class 'pandas.core.frame.DataFrame'>\n",
      "RangeIndex: 19 entries, 0 to 18\n",
      "Data columns (total 5 columns):\n",
      " #   Column  Non-Null Count  Dtype  \n",
      "---  ------  --------------  -----  \n",
      " 0   date    19 non-null     object \n",
      " 1   open    19 non-null     float64\n",
      " 2   high    19 non-null     float64\n",
      " 3   low     19 non-null     float64\n",
      " 4   close   19 non-null     float64\n",
      "dtypes: float64(4), object(1)\n",
      "memory usage: 888.0+ bytes\n",
      "None\n"
     ]
    }
   ],
   "source": [
    "#check the characteristics of data from 202009\n",
    "print(df10.head())\n",
    "print('----------')\n",
    "print(df10.describe())\n",
    "print('----------')\n",
    "print(df10.info())"
   ]
  },
  {
   "cell_type": "code",
   "execution_count": 23,
   "metadata": {},
   "outputs": [
    {
     "data": {
      "text/plain": [
       "array([ True,  True,  True,  True,  True])"
      ]
     },
     "execution_count": 23,
     "metadata": {},
     "output_type": "execute_result"
    }
   ],
   "source": [
    "#The columns of the two dataframes are the same\n",
    "df09.columns == df10.columns\n"
   ]
  },
  {
   "cell_type": "code",
   "execution_count": 27,
   "metadata": {
    "id": "HwABxdTXwcCT"
   },
   "outputs": [],
   "source": [
    "#串聯\n",
    "df_con = pd.concat([df09,df10], axis=0, join='outer')"
   ]
  },
  {
   "cell_type": "code",
   "execution_count": null,
   "metadata": {
    "id": "_omQWydWwcCT",
    "scrolled": true
   },
   "outputs": [],
   "source": [
    "#找出open小於close的資料"
   ]
  },
  {
   "cell_type": "code",
   "execution_count": 29,
   "metadata": {
    "id": "mFib7gxHwcCU"
   },
   "outputs": [
    {
     "data": {
      "text/html": [
       "<div>\n",
       "<style scoped>\n",
       "    .dataframe tbody tr th:only-of-type {\n",
       "        vertical-align: middle;\n",
       "    }\n",
       "\n",
       "    .dataframe tbody tr th {\n",
       "        vertical-align: top;\n",
       "    }\n",
       "\n",
       "    .dataframe thead th {\n",
       "        text-align: right;\n",
       "    }\n",
       "</style>\n",
       "<table border=\"1\" class=\"dataframe\">\n",
       "  <thead>\n",
       "    <tr style=\"text-align: right;\">\n",
       "      <th></th>\n",
       "      <th>date</th>\n",
       "      <th>open</th>\n",
       "      <th>high</th>\n",
       "      <th>low</th>\n",
       "      <th>close</th>\n",
       "    </tr>\n",
       "  </thead>\n",
       "  <tbody>\n",
       "    <tr>\n",
       "      <th>0</th>\n",
       "      <td>109/09/01</td>\n",
       "      <td>102.45</td>\n",
       "      <td>103.35</td>\n",
       "      <td>101.85</td>\n",
       "      <td>103.35</td>\n",
       "    </tr>\n",
       "    <tr>\n",
       "      <th>3</th>\n",
       "      <td>109/09/04</td>\n",
       "      <td>102.00</td>\n",
       "      <td>102.70</td>\n",
       "      <td>101.90</td>\n",
       "      <td>102.55</td>\n",
       "    </tr>\n",
       "    <tr>\n",
       "      <th>5</th>\n",
       "      <td>109/09/08</td>\n",
       "      <td>102.75</td>\n",
       "      <td>103.10</td>\n",
       "      <td>102.45</td>\n",
       "      <td>103.00</td>\n",
       "    </tr>\n",
       "    <tr>\n",
       "      <th>6</th>\n",
       "      <td>109/09/09</td>\n",
       "      <td>101.75</td>\n",
       "      <td>102.35</td>\n",
       "      <td>101.15</td>\n",
       "      <td>102.30</td>\n",
       "    </tr>\n",
       "    <tr>\n",
       "      <th>7</th>\n",
       "      <td>109/09/10</td>\n",
       "      <td>102.80</td>\n",
       "      <td>103.35</td>\n",
       "      <td>102.60</td>\n",
       "      <td>103.20</td>\n",
       "    </tr>\n",
       "    <tr>\n",
       "      <th>8</th>\n",
       "      <td>109/09/11</td>\n",
       "      <td>103.20</td>\n",
       "      <td>103.35</td>\n",
       "      <td>102.80</td>\n",
       "      <td>103.25</td>\n",
       "    </tr>\n",
       "    <tr>\n",
       "      <th>9</th>\n",
       "      <td>109/09/14</td>\n",
       "      <td>103.50</td>\n",
       "      <td>104.55</td>\n",
       "      <td>103.25</td>\n",
       "      <td>104.55</td>\n",
       "    </tr>\n",
       "    <tr>\n",
       "      <th>10</th>\n",
       "      <td>109/09/15</td>\n",
       "      <td>104.45</td>\n",
       "      <td>105.20</td>\n",
       "      <td>104.25</td>\n",
       "      <td>104.95</td>\n",
       "    </tr>\n",
       "    <tr>\n",
       "      <th>19</th>\n",
       "      <td>109/09/28</td>\n",
       "      <td>101.35</td>\n",
       "      <td>102.30</td>\n",
       "      <td>101.00</td>\n",
       "      <td>102.30</td>\n",
       "    </tr>\n",
       "    <tr>\n",
       "      <th>21</th>\n",
       "      <td>109/09/30</td>\n",
       "      <td>102.75</td>\n",
       "      <td>103.45</td>\n",
       "      <td>102.60</td>\n",
       "      <td>103.00</td>\n",
       "    </tr>\n",
       "    <tr>\n",
       "      <th>1</th>\n",
       "      <td>109/10/06</td>\n",
       "      <td>104.00</td>\n",
       "      <td>104.35</td>\n",
       "      <td>103.85</td>\n",
       "      <td>104.25</td>\n",
       "    </tr>\n",
       "    <tr>\n",
       "      <th>2</th>\n",
       "      <td>109/10/07</td>\n",
       "      <td>104.00</td>\n",
       "      <td>105.00</td>\n",
       "      <td>103.50</td>\n",
       "      <td>104.80</td>\n",
       "    </tr>\n",
       "    <tr>\n",
       "      <th>3</th>\n",
       "      <td>109/10/08</td>\n",
       "      <td>105.45</td>\n",
       "      <td>106.35</td>\n",
       "      <td>105.30</td>\n",
       "      <td>106.20</td>\n",
       "    </tr>\n",
       "    <tr>\n",
       "      <th>4</th>\n",
       "      <td>109/10/12</td>\n",
       "      <td>106.70</td>\n",
       "      <td>107.70</td>\n",
       "      <td>106.70</td>\n",
       "      <td>107.05</td>\n",
       "    </tr>\n",
       "    <tr>\n",
       "      <th>9</th>\n",
       "      <td>109/10/19</td>\n",
       "      <td>105.65</td>\n",
       "      <td>106.60</td>\n",
       "      <td>105.60</td>\n",
       "      <td>106.60</td>\n",
       "    </tr>\n",
       "    <tr>\n",
       "      <th>12</th>\n",
       "      <td>109/10/22</td>\n",
       "      <td>105.70</td>\n",
       "      <td>106.10</td>\n",
       "      <td>105.50</td>\n",
       "      <td>106.10</td>\n",
       "    </tr>\n",
       "  </tbody>\n",
       "</table>\n",
       "</div>"
      ],
      "text/plain": [
       "         date    open    high     low   close\n",
       "0   109/09/01  102.45  103.35  101.85  103.35\n",
       "3   109/09/04  102.00  102.70  101.90  102.55\n",
       "5   109/09/08  102.75  103.10  102.45  103.00\n",
       "6   109/09/09  101.75  102.35  101.15  102.30\n",
       "7   109/09/10  102.80  103.35  102.60  103.20\n",
       "8   109/09/11  103.20  103.35  102.80  103.25\n",
       "9   109/09/14  103.50  104.55  103.25  104.55\n",
       "10  109/09/15  104.45  105.20  104.25  104.95\n",
       "19  109/09/28  101.35  102.30  101.00  102.30\n",
       "21  109/09/30  102.75  103.45  102.60  103.00\n",
       "1   109/10/06  104.00  104.35  103.85  104.25\n",
       "2   109/10/07  104.00  105.00  103.50  104.80\n",
       "3   109/10/08  105.45  106.35  105.30  106.20\n",
       "4   109/10/12  106.70  107.70  106.70  107.05\n",
       "9   109/10/19  105.65  106.60  105.60  106.60\n",
       "12  109/10/22  105.70  106.10  105.50  106.10"
      ]
     },
     "execution_count": 29,
     "metadata": {},
     "output_type": "execute_result"
    }
   ],
   "source": [
    "print(df_con[df_con['open']<df_con['close']])"
   ]
  }
 ],
 "metadata": {
  "colab": {
   "collapsed_sections": [],
   "name": "pandas_select_merge_hw題目.ipynb",
   "provenance": []
  },
  "kernelspec": {
   "display_name": "Python 3",
   "language": "python",
   "name": "python3"
  },
  "language_info": {
   "codemirror_mode": {
    "name": "ipython",
    "version": 3
   },
   "file_extension": ".py",
   "mimetype": "text/x-python",
   "name": "python",
   "nbconvert_exporter": "python",
   "pygments_lexer": "ipython3",
   "version": "3.8.5"
  }
 },
 "nbformat": 4,
 "nbformat_minor": 1
}
